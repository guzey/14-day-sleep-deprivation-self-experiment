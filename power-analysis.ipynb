{
 "cells": [
  {
   "cell_type": "code",
   "execution_count": 1,
   "metadata": {},
   "outputs": [],
   "source": [
    "# https://www.statsmodels.org/dev/generated/statsmodels.stats.power.TTestPower.solve_power.html#statsmodels.stats.power.TTestPower.solve_power\n",
    "from statsmodels.stats.power import TTestPower\n",
    "from statsmodels.stats.power import TTestIndPower\n",
    "import numpy as np"
   ]
  },
  {
   "cell_type": "markdown",
   "metadata": {},
   "source": [
    "In PAP, I incorrectly calculated sample sizes for PVT and guzey_arena_0, because I did not realize that I have to use a paired t-test rather than a 2-sample t-test, thus my power calculations were incorrect. In reality, my power for PVT was 0.6 rather than 0.8 and for guzey_arena_0 it was 0.36, rather than 0.5."
   ]
  },
  {
   "cell_type": "markdown",
   "metadata": {},
   "source": [
    "## Correct power calculations"
   ]
  },
  {
   "cell_type": "code",
   "execution_count": 2,
   "metadata": {
    "collapsed": true
   },
   "outputs": [
    {
     "output_type": "stream",
     "name": "stdout",
     "text": "to achieve effect size of 0.58\nat 0.025 alpha\nand 0.895 power\non paired t-test with two-sided alternative\nneed 39.0 pairs of observations\n"
    }
   ],
   "source": [
    "# PVT correct sample size calculation\n",
    "effect_size=0.58\n",
    "alpha=0.025\n",
    "power=0.895\n",
    "nobs_for_aimgod = TTestPower().solve_power(effect_size=effect_size, alpha=alpha, power=power, alternative='two-sided')\n",
    "print(\"to achieve effect size of\", effect_size)\n",
    "print(\"at\", alpha, \"alpha\")\n",
    "print(\"and\", power, \"power\")\n",
    "print(\"on paired t-test with two-sided alternative\")\n",
    "print(\"need\", np.ceil(nobs_for_aimgod), \"pairs of observations\")"
   ]
  },
  {
   "cell_type": "code",
   "execution_count": 3,
   "metadata": {},
   "outputs": [
    {
     "output_type": "stream",
     "name": "stdout",
     "text": "to achieve effect size of 0.356\nat 0.025 alpha\nand 0.895 power\non paired t-test with two-sided alternative\nneed 99.0 pairs of observations\n"
    }
   ],
   "source": [
    "# guzey_arena_0 correct sample size calculation\n",
    "effect_size=0.356\n",
    "alpha=0.025\n",
    "power=0.895\n",
    "nobs_for_aimgod = TTestPower().solve_power(effect_size=effect_size, alpha=alpha, power=power, alternative='two-sided')\n",
    "print(\"to achieve effect size of\", effect_size)\n",
    "print(\"at\", alpha, \"alpha\")\n",
    "print(\"and\", power, \"power\")\n",
    "print(\"on paired t-test with two-sided alternative\")\n",
    "print(\"need\", np.ceil(nobs_for_aimgod), \"pairs of observations\")"
   ]
  },
  {
   "cell_type": "markdown",
   "metadata": {},
   "source": [
    "## Incorrect power calculations presented in PAP"
   ]
  },
  {
   "cell_type": "code",
   "execution_count": 4,
   "metadata": {},
   "outputs": [
    {
     "output_type": "stream",
     "name": "stdout",
     "text": "for 2-sample t-test (incorrect test in my case)\nto achieve effect size of 0.8\nat 0.025 alpha\nand 0.895 power\non paired t-test with two-sided alternative\nneed 39.45762163492311 pairs of observations\n"
    }
   ],
   "source": [
    "# PVT incorrect sample size calculation\n",
    "# This one outputs 40 observations but I intended to collect 39 observations because I used https://select-statistics.co.uk/calculators/sample-size-calculator-two-means/, which apparently did not round the number of observations up and recommended 39 observations.\n",
    "effect_size=0.8\n",
    "alpha=0.025\n",
    "power=0.895\n",
    "nobs_for_aimgod = TTestIndPower().solve_power(effect_size=effect_size, alpha=alpha, power=power, alternative='two-sided')\n",
    "print(\"for 2-sample t-test (incorrect test in my case)\")\n",
    "print(\"to achieve effect size of\", effect_size)\n",
    "print(\"at\", alpha, \"alpha\")\n",
    "print(\"and\", power, \"power\")\n",
    "print(\"on paired t-test with two-sided alternative\")\n",
    "print(\"need\", nobs_for_aimgod, \"pairs of observations\")"
   ]
  },
  {
   "cell_type": "code",
   "execution_count": 5,
   "metadata": {},
   "outputs": [
    {
     "output_type": "stream",
     "name": "stdout",
     "text": "for 2-sample t-test (incorrect test in my case)\nto achieve effect size of 0.5\nat 0.025 alpha\nand 0.895 power\non paired t-test with two-sided alternative\nneed 99.0 pairs of observations\n"
    }
   ],
   "source": [
    "# guzey_arena_0 incorrect sample size calculation\n",
    "effect_size=0.5\n",
    "alpha=0.025\n",
    "power=0.895\n",
    "nobs_for_aimgod = TTestIndPower().solve_power(effect_size=effect_size, alpha=alpha, power=power, alternative='two-sided')\n",
    "print(\"for 2-sample t-test (incorrect test in my case)\")\n",
    "print(\"to achieve effect size of\", effect_size)\n",
    "print(\"at\", alpha, \"alpha\")\n",
    "print(\"and\", power, \"power\")\n",
    "print(\"on paired t-test with two-sided alternative\")\n",
    "print(\"need\", np.ceil(nobs_for_aimgod), \"pairs of observations\")"
   ]
  },
  {
   "cell_type": "code",
   "execution_count": 6,
   "metadata": {},
   "outputs": [],
   "source": [
    "## Sample sizes required to detect very small differences"
   ]
  },
  {
   "cell_type": "code",
   "execution_count": 7,
   "metadata": {
    "collapsed": true
   },
   "outputs": [
    {
     "output_type": "stream",
     "name": "stdout",
     "text": "to achieve effect size of 0.1\nat 0.025 alpha\nand 0.895 power\non paired t-test with two-sided alternative\nneed 1224.0 pairs of observations\n"
    }
   ],
   "source": [
    "# looking for 0.1 effect size is impractical in this experiment\n",
    "\n",
    "effect_size=0.1\n",
    "alpha=0.025\n",
    "power=0.895\n",
    "nobs_for_aimgod = TTestPower().solve_power(effect_size=effect_size, alpha=alpha, power=power, alternative='two-sided')\n",
    "print(\"to achieve effect size of\", effect_size)\n",
    "print(\"at\", alpha, \"alpha\")\n",
    "print(\"and\", power, \"power\")\n",
    "print(\"on paired t-test with two-sided alternative\")\n",
    "print(\"need\", np.ceil(nobs_for_aimgod), \"pairs of observations\")"
   ]
  },
  {
   "cell_type": "code",
   "execution_count": 8,
   "metadata": {},
   "outputs": [
    {
     "output_type": "stream",
     "name": "stdout",
     "text": "to achieve effect size of 0.1\nat 0.05 alpha\nand 0.8 power\non paired t-test with two-sided alternative\nneed 787.0 pairs of observations\n"
    }
   ],
   "source": [
    "# looking for 0.1 effect size might be practical if performing only 1 test\n",
    "\n",
    "effect_size=0.1\n",
    "alpha=0.05\n",
    "power=0.8\n",
    "nobs_for_aimgod = TTestPower().solve_power(effect_size=effect_size, alpha=alpha, power=power, alternative='two-sided')\n",
    "print(\"to achieve effect size of\", effect_size)\n",
    "print(\"at\", alpha, \"alpha\")\n",
    "print(\"and\", power, \"power\")\n",
    "print(\"on paired t-test with two-sided alternative\")\n",
    "print(\"need\", np.ceil(nobs_for_aimgod), \"pairs of observations\")"
   ]
  },
  {
   "cell_type": "code",
   "execution_count": null,
   "metadata": {},
   "outputs": [],
   "source": []
  }
 ],
 "metadata": {
  "kernelspec": {
   "display_name": "Python 3",
   "language": "python",
   "name": "python3"
  },
  "language_info": {
   "codemirror_mode": {
    "name": "ipython",
    "version": 3
   },
   "file_extension": ".py",
   "mimetype": "text/x-python",
   "name": "python",
   "nbconvert_exporter": "python",
   "pygments_lexer": "ipython3",
   "version": "3.6.3-final"
  }
 },
 "nbformat": 4,
 "nbformat_minor": 2
}