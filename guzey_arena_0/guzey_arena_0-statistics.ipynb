{
 "cells": [
  {
   "cell_type": "code",
   "execution_count": 1,
   "metadata": {
    "collapsed": true
   },
   "outputs": [],
   "source": [
    "import pandas as pd\n",
    "import numpy as np\n",
    "import glob\n",
    "import os\n",
    "import scipy.stats as stats"
   ]
  },
  {
   "cell_type": "code",
   "execution_count": 2,
   "metadata": {
    "scrolled": true
   },
   "outputs": [],
   "source": [
    "# data loading \n",
    "\n",
    "# open files : https://stackoverflow.com/a/18262324/9600186\n",
    "with open('data/guzey_arena_0-control.csv', 'r') as f: # open in readonly mode\n",
    "    sample_control = pd.read_csv(f)\n",
    "    \n",
    "with open('data/guzey_arena_0-treatment.csv', 'r') as f: # open in readonly mode\n",
    "    sample_treatment = pd.read_csv(f)\n",
    "        \n",
    "# remove everything except for time elapsed from the data\n",
    "sample_control = list(sample_control['time_elapsed'])\n",
    "sample_treatment = list(sample_treatment['time_elapsed'])"
   ]
  },
  {
   "cell_type": "code",
   "execution_count": 3,
   "metadata": {},
   "outputs": [
    {
     "output_type": "stream",
     "name": "stdout",
     "text": "Control mean: 49.91\nTreatment mean: 49.24\nControl median: 50.0\nTreatment median: 49.0\nControl standard error: 0.54\nTreatment standard error: 0.6\n"
    }
   ],
   "source": [
    "print('Control mean:', np.round(np.mean(sample_control), 2))\n",
    "print('Treatment mean:', np.round(np.mean(sample_treatment), 2))\n",
    "print('Control median:', np.median(sample_control))\n",
    "print('Treatment median:', np.median(sample_treatment))\n",
    "print('Control standard error:', np.round(stats.sem(sample_control), 2))\n",
    "print('Treatment standard error:', np.round(stats.sem(sample_treatment), 2))"
   ]
  },
  {
   "cell_type": "code",
   "execution_count": 4,
   "metadata": {},
   "outputs": [
    {
     "output_type": "stream",
     "name": "stdout",
     "text": "p-value = 0.382\nt-value = 0.879\n"
    }
   ],
   "source": [
    "pval = np.round(stats.ttest_rel(sample_control,sample_treatment)[1],3)\n",
    "tval = np.round(stats.ttest_rel(sample_control,sample_treatment)[0],3)\n",
    "\n",
    "print('p-value =', pval)\n",
    "print('t-value =', tval)"
   ]
  },
  {
   "cell_type": "markdown",
   "metadata": {},
   "source": [
    "Calculating means after including sample 12 from *guzey_arena_0-2020-04-16-00-22.m4v*"
   ]
  },
  {
   "cell_type": "code",
   "execution_count": 5,
   "metadata": {},
   "outputs": [
    {
     "output_type": "stream",
     "name": "stdout",
     "text": "Control mean: 49.91\nTreatment extra mean: 49.38\n"
    }
   ],
   "source": [
    "sample_treatment_extra = sample_treatment + [63]\n",
    "print('Control mean:', np.round(np.mean(sample_control), 2))\n",
    "print('Treatment extra mean:', np.round(np.mean(sample_treatment_extra), 2))"
   ]
  },
  {
   "cell_type": "code",
   "execution_count": null,
   "metadata": {},
   "outputs": [],
   "source": []
  }
 ],
 "metadata": {
  "kernelspec": {
   "display_name": "Python 3",
   "language": "python",
   "name": "python3"
  },
  "language_info": {
   "codemirror_mode": {
    "name": "ipython",
    "version": 3
   },
   "file_extension": ".py",
   "mimetype": "text/x-python",
   "name": "python",
   "nbconvert_exporter": "python",
   "pygments_lexer": "ipython3",
   "version": "3.6.3-final"
  }
 },
 "nbformat": 4,
 "nbformat_minor": 2
}