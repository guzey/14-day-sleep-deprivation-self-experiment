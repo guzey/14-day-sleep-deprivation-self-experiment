{
 "cells": [
  {
   "cell_type": "code",
   "execution_count": 1,
   "metadata": {
    "collapsed": true
   },
   "outputs": [],
   "source": [
    "import pandas as pd\n",
    "import numpy as np\n",
    "import glob\n",
    "import os\n",
    "import scipy.stats as stats"
   ]
  },
  {
   "cell_type": "code",
   "execution_count": 3,
   "metadata": {
    "collapsed": true
   },
   "outputs": [],
   "source": [
    "# YOU ONLY NEED TO RUN CODE IN THIS CELL ONE TIME\n",
    "## Inquisit 6 records early responses as 'too early' which makes python thing that 'too' and 'early' are space separated value\n",
    "# therefore, change 'too early' to '0' in every file with data (in xlsx files I did this using Excel's find and replace)\n",
    "\n",
    "# https://stackoverflow.com/a/18262324/9600186\n",
    "# import glob\n",
    "# path = 'data/control'\n",
    "# for filename in glob.glob(os.path.join(path, '*.iqdat')):\n",
    "#     with open(os.path.join(os.getcwd(), filename), 'r') as f: # open in readonly mode\n",
    "#         text = ''.join([i for i in f]).replace('too early', '0')\n",
    "#         x = open(os.path.join(os.getcwd(), filename), 'w')\n",
    "#         x.writelines(text)\n",
    "#         x.close()\n",
    "# path = 'data/treatment'\n",
    "# for filename in glob.glob(os.path.join(path, '*.iqdat')):\n",
    "#     with open(os.path.join(os.getcwd(), filename), 'r') as f: # open in readonly mode\n",
    "#         text = ''.join([i for i in f]).replace('too early', '0')\n",
    "#         x = open(os.path.join(os.getcwd(), filename), 'w')\n",
    "#         x.writelines(text)\n",
    "#         x.close()\n",
    "# path = 'data/all'\n",
    "# for filename in glob.glob(os.path.join(path, '*.iqdat')):\n",
    "#     with open(os.path.join(os.getcwd(), filename), 'r') as f: # open in readonly mode\n",
    "#         text = ''.join([i for i in f]).replace('too early', '0')\n",
    "#         x = open(os.path.join(os.getcwd(), filename), 'w')\n",
    "#         x.writelines(text)\n",
    "#         x.close()\n",
    "# path = 'data'\n",
    "# for filename in glob.glob(os.path.join(path, '*.csv')):\n",
    "#     with open(os.path.join(os.getcwd(), filename), 'r') as f: # open in readonly mode\n",
    "#         text = ''.join([i for i in f]).replace('too early', '0')\n",
    "#         x = open(os.path.join(os.getcwd(), filename), 'w')\n",
    "#         x.writelines(text)\n",
    "#         x.close()\n",
    "# path = 'data'\n",
    "# for filename in glob.glob(os.path.join(path, '*.iqdat')):\n",
    "#     with open(os.path.join(os.getcwd(), filename), 'r') as f: # open in readonly mode\n",
    "#         text = ''.join([i for i in f]).replace('too early', '0')\n",
    "#         x = open(os.path.join(os.getcwd(), filename), 'w')\n",
    "#         x.writelines(text)\n",
    "#         x.close()"
   ]
  },
  {
   "cell_type": "code",
   "execution_count": 2,
   "metadata": {
    "scrolled": true
   },
   "outputs": [],
   "source": [
    "# data loading \n",
    "\n",
    "sample_control = []\n",
    "sample_treatment = []\n",
    "\n",
    "# open every files from folder: https://stackoverflow.com/a/18262324/9600186\n",
    "# space separated: https://stackoverflow.com/a/19633103/9600186\n",
    "path = 'data/control'\n",
    "for filename in glob.glob(os.path.join(path, '*.iqdat')):\n",
    "    with open(os.path.join(os.getcwd(), filename), 'r') as f: # open in readonly mode\n",
    "        sample_control.append(pd.read_csv(f, delim_whitespace=True))\n",
    "path = 'data/treatment'\n",
    "for filename in glob.glob(os.path.join(path, '*.iqdat')):\n",
    "    with open(os.path.join(os.getcwd(), filename), 'r') as f: # open in readonly mode\n",
    "        sample_treatment.append(pd.read_csv(f, delim_whitespace=True))\n",
    "        \n",
    "# remove everything except for reaction times from the data\n",
    "sample_control = [session['rt'] for session in sample_control]\n",
    "sample_treatment = [session['rt'] for session in sample_treatment]\n",
    "\n",
    "# turn lapses into 1s and everything else into 0s\n",
    "for i, session in enumerate(sample_control):\n",
    "    for j, trial in enumerate(session):\n",
    "        if (trial>=500):\n",
    "            sample_control[i][j] = 1\n",
    "        else:\n",
    "            sample_control[i][j] = 0\n",
    "            \n",
    "for i, session in enumerate(sample_treatment):\n",
    "    for j, trial in enumerate(session):\n",
    "        if (trial>=500):\n",
    "            sample_treatment[i][j] = 1\n",
    "        else:\n",
    "            sample_treatment[i][j] = 0\n",
    "            \n",
    "# sum number of lapses in each session\n",
    "# https://www.geeksforgeeks.org/python-ways-to-sum-list-of-lists-and-return-sum-list/\n",
    "sample_control = [sum(i) for i in zip(*sample_control)]\n",
    "sample_treatment = [sum(i) for i in zip(*sample_treatment)]"
   ]
  },
  {
   "cell_type": "code",
   "execution_count": 3,
   "metadata": {},
   "outputs": [
    {
     "output_type": "stream",
     "name": "stdout",
     "text": "Control mean: 1.34\nTreatment mean: 1.12\nControl median: 1.0\nTreatment median: 1.0\nControl standard error: 0.12\nTreatment standard error: 0.11\n"
    }
   ],
   "source": [
    "print('Control mean:', np.round(np.mean(sample_control), 2))\n",
    "print('Treatment mean:', np.round(np.mean(sample_treatment), 2))\n",
    "print('Control median:', np.median(sample_control))\n",
    "print('Treatment median:', np.median(sample_treatment))\n",
    "print('Control standard error:', np.round(stats.sem(sample_control), 2))\n",
    "print('Treatment standard error:', np.round(stats.sem(sample_treatment), 2))"
   ]
  },
  {
   "cell_type": "code",
   "execution_count": 4,
   "metadata": {},
   "outputs": [
    {
     "output_type": "stream",
     "name": "stdout",
     "text": "p-value = 0.18\nt-value = 1.35\n"
    }
   ],
   "source": [
    "pval = np.round(stats.ttest_rel(sample_control,sample_treatment)[1],2)\n",
    "tval = np.round(stats.ttest_rel(sample_control,sample_treatment)[0],2)\n",
    "\n",
    "print('p-value:', pval)\n",
    "print('t-value:', tval)"
   ]
  },
  {
   "cell_type": "code",
   "execution_count": null,
   "metadata": {},
   "outputs": [],
   "source": []
  }
 ],
 "metadata": {
  "kernelspec": {
   "display_name": "Python 3",
   "language": "python",
   "name": "python3"
  },
  "language_info": {
   "codemirror_mode": {
    "name": "ipython",
    "version": 3
   },
   "file_extension": ".py",
   "mimetype": "text/x-python",
   "name": "python",
   "nbconvert_exporter": "python",
   "pygments_lexer": "ipython3",
   "version": "3.6.3-final"
  }
 },
 "nbformat": 4,
 "nbformat_minor": 2
}